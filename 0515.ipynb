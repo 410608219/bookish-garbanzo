{
  "nbformat": 4,
  "nbformat_minor": 0,
  "metadata": {
    "colab": {
      "provenance": [],
      "authorship_tag": "ABX9TyN0mKGu9aW/zaHfS4ZjwE5X",
      "include_colab_link": true
    },
    "kernelspec": {
      "name": "python3",
      "display_name": "Python 3"
    },
    "language_info": {
      "name": "python"
    }
  },
  "cells": [
    {
      "cell_type": "markdown",
      "metadata": {
        "id": "view-in-github",
        "colab_type": "text"
      },
      "source": [
        "<a href=\"https://colab.research.google.com/github/410608219/bookish-garbanzo/blob/main/0515.ipynb\" target=\"_parent\"><img src=\"https://colab.research.google.com/assets/colab-badge.svg\" alt=\"Open In Colab\"/></a>"
      ]
    },
    {
      "cell_type": "code",
      "execution_count": null,
      "metadata": {
        "colab": {
          "base_uri": "https://localhost:8080/"
        },
        "id": "ebGBlGo7u49P",
        "outputId": "ef509411-c0ff-401a-8eb7-c894fde96d9e"
      },
      "outputs": [
        {
          "output_type": "stream",
          "name": "stdout",
          "text": [
            "score: 75\n",
            "Grade is: C\n"
          ]
        }
      ],
      "source": [
        "score = int(input(\"score: \"))\n",
        "if score >= 90:\n",
        "    print('Grade is: A')\n",
        "elif score >= 80:\n",
        "    print('Grade is: B')\n",
        "elif score >= 70:\n",
        "    print('Grade is: C')\n",
        "elif score >= 60:\n",
        "    print('Grade is: D')\n",
        "else:\n",
        "    print('Grade is: F')"
      ]
    },
    {
      "cell_type": "code",
      "source": [
        "rain = str(input(\"今天會下雨嗎?\"))\n",
        "if rain == \"Y\" or rain == \"y\":\n",
        "  print(\"出門記得帶傘\")\n",
        "else: \n",
        "  print(\"重新輸入\")"
      ],
      "metadata": {
        "id": "vxQpQKvqvCBF",
        "colab": {
          "base_uri": "https://localhost:8080/"
        },
        "outputId": "606a4a9e-4d41-4361-f1e7-de7dfef06d3a"
      },
      "execution_count": 47,
      "outputs": [
        {
          "output_type": "stream",
          "name": "stdout",
          "text": [
            "今天會下雨嗎?l\n",
            "重新輸入\n"
          ]
        }
      ]
    },
    {
      "cell_type": "code",
      "source": [
        "w = int(input(\"請輸入體溫: \"))\n",
        "if w >= 37.5:\n",
        "    print('體溫過高!')\n",
        "elif w <= 37.4 and w >=37:\n",
        "    print('體溫略高!')\n",
        "elif w <= 36.9 and w >=34:\n",
        "    print('體溫正常!')  \n",
        "else: \n",
        "    print(\"體溫異常，請重新量測!\")"
      ],
      "metadata": {
        "id": "tf4NwvdCvCDh",
        "colab": {
          "base_uri": "https://localhost:8080/"
        },
        "outputId": "21df9bc2-9a7d-4982-e0c6-29c0d23f2901"
      },
      "execution_count": 18,
      "outputs": [
        {
          "output_type": "stream",
          "name": "stdout",
          "text": [
            "請輸入體溫: 32\n",
            "體溫異常，請重新量測!\n"
          ]
        }
      ]
    },
    {
      "cell_type": "code",
      "source": [
        "m = int(input(\"請輸入月份: \"))\n",
        "if 3 <= m <= 5:\n",
        "    print('%d月是春天!' %m)\n",
        "elif 6 <= m <= 8:\n",
        "    print('%d月是夏天!' %m)\n",
        "elif 9 <= m <= 11:\n",
        "    print('%d月是秋天!' %m)\n",
        "elif m == 1 or m == 2 or m == 12:\n",
        "    print('%d月是冬天!' %m)\n",
        "\n",
        "else: \n",
        "    print(\"月份不在範圍內!\")"
      ],
      "metadata": {
        "id": "ciQ1WbdZvCJP",
        "colab": {
          "base_uri": "https://localhost:8080/"
        },
        "outputId": "a338a3bb-76e6-4cd3-aa5e-bfd4fca0aabb"
      },
      "execution_count": 29,
      "outputs": [
        {
          "output_type": "stream",
          "name": "stdout",
          "text": [
            "請輸入月份 15\n",
            "月份不在範圍內!\n"
          ]
        }
      ]
    },
    {
      "cell_type": "code",
      "source": [
        "tax = int(input(\"請輸入今年收入淨額: \"))\n",
        "if tax >= 2000000:\n",
        "    print('付稅金額:',tax*0.3)\n",
        "elif 1000000 <= tax <= 1999999:\n",
        "    print('付稅金額:',tax*0.21)\n",
        "elif 600000 <= tax <= 99999:\n",
        "    print('付稅金額:',tax*0.13)\n",
        "elif 300000 <= tax <= 59999:\n",
        "    print('付稅金額:',tax*0.06)\n",
        "else: \n",
        "    print('付稅金額:',tax)"
      ],
      "metadata": {
        "id": "FgFihFWAvCLi",
        "colab": {
          "base_uri": "https://localhost:8080/"
        },
        "outputId": "34f75a41-9886-4630-f727-8ab1d193331c"
      },
      "execution_count": 43,
      "outputs": [
        {
          "output_type": "stream",
          "name": "stdout",
          "text": [
            "請輸入今年收入淨額: 5000000\n",
            "付稅金額: 1500000.0\n"
          ]
        }
      ]
    },
    {
      "cell_type": "code",
      "source": [],
      "metadata": {
        "id": "6NDhm2_cvCOB"
      },
      "execution_count": null,
      "outputs": []
    },
    {
      "cell_type": "code",
      "source": [],
      "metadata": {
        "id": "g03379oNvCQP"
      },
      "execution_count": null,
      "outputs": []
    }
  ]
}