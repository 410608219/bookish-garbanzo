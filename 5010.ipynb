{
  "nbformat": 4,
  "nbformat_minor": 0,
  "metadata": {
    "colab": {
      "provenance": [],
      "authorship_tag": "ABX9TyM2qeOLr8PaMmAqQuALl2Gd",
      "include_colab_link": true
    },
    "kernelspec": {
      "name": "python3",
      "display_name": "Python 3"
    },
    "language_info": {
      "name": "python"
    }
  },
  "cells": [
    {
      "cell_type": "markdown",
      "metadata": {
        "id": "view-in-github",
        "colab_type": "text"
      },
      "source": [
        "<a href=\"https://colab.research.google.com/github/410608219/bookish-garbanzo/blob/main/5010.ipynb\" target=\"_parent\"><img src=\"https://colab.research.google.com/assets/colab-badge.svg\" alt=\"Open In Colab\"/></a>"
      ]
    },
    {
      "cell_type": "code",
      "execution_count": null,
      "metadata": {
        "colab": {
          "base_uri": "https://localhost:8080/"
        },
        "id": "0YwZiEpiDjGJ",
        "outputId": "b90060c2-0dc7-4110-aedd-ec10f5a4ed45"
      },
      "outputs": [
        {
          "output_type": "stream",
          "name": "stdout",
          "text": [
            "hello world\n"
          ]
        }
      ],
      "source": [
        "print(\"hello world\")"
      ]
    },
    {
      "cell_type": "code",
      "source": [
        "f = float(input('請輸入華氏溫度:'))"
      ],
      "metadata": {
        "id": "J_V-8Oj4Dluf",
        "colab": {
          "base_uri": "https://localhost:8080/"
        },
        "outputId": "78cff717-f573-45ff-9bce-d096d840f903"
      },
      "execution_count": 10,
      "outputs": [
        {
          "name": "stdout",
          "output_type": "stream",
          "text": [
            "請輸入華氏溫度:100\n"
          ]
        }
      ]
    },
    {
      "cell_type": "code",
      "source": [
        "t = (f - 32)*5/9"
      ],
      "metadata": {
        "id": "b-UYb3J1FEDZ"
      },
      "execution_count": 12,
      "outputs": []
    },
    {
      "cell_type": "code",
      "source": [
        "print(round(t, 1))"
      ],
      "metadata": {
        "colab": {
          "base_uri": "https://localhost:8080/"
        },
        "id": "7I2vn5lzHBaj",
        "outputId": "626e67d1-ad04-4a00-936e-90651be03590"
      },
      "execution_count": 14,
      "outputs": [
        {
          "output_type": "stream",
          "name": "stdout",
          "text": [
            "37.8\n"
          ]
        }
      ]
    },
    {
      "cell_type": "code",
      "source": [
        "a = 0\n",
        "for i in range(1,6):\n",
        "    a +=i\n",
        "print('%d' % a)"
      ],
      "metadata": {
        "colab": {
          "base_uri": "https://localhost:8080/"
        },
        "id": "kjo_C-ZbDlw9",
        "outputId": "bb0ecd4c-ee39-4189-edc7-1a57a7e4b134"
      },
      "execution_count": null,
      "outputs": [
        {
          "output_type": "stream",
          "name": "stdout",
          "text": [
            "15\n"
          ]
        }
      ]
    },
    {
      "cell_type": "code",
      "source": [
        "m = int(input('請輸入本金存款金額:'))\n",
        "years = (1.02**6)*m\n",
        "print('6年後存款為：',years)"
      ],
      "metadata": {
        "id": "4v3MiJuODlzc",
        "colab": {
          "base_uri": "https://localhost:8080/"
        },
        "outputId": "ff144714-221f-4601-a07d-8eeaf60b455c"
      },
      "execution_count": 17,
      "outputs": [
        {
          "output_type": "stream",
          "name": "stdout",
          "text": [
            "請輸入本金存款金額:10000\n",
            "6年後存款為： 11261.62419264\n"
          ]
        }
      ]
    },
    {
      "cell_type": "code",
      "source": [],
      "metadata": {
        "id": "hJ09M5w6I0w3"
      },
      "execution_count": null,
      "outputs": []
    },
    {
      "cell_type": "code",
      "source": [],
      "metadata": {
        "id": "QJddaqjyDl19"
      },
      "execution_count": null,
      "outputs": []
    }
  ]
}